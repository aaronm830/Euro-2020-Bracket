{
 "cells": [
  {
   "cell_type": "markdown",
   "metadata": {},
   "source": [
    "# Part 1: Processing\n",
    "\n",
    "The following converts all the Excel sheets of predictions into one DataFrame complete with all information needed to evaluate the Euro 2020 bracket entries. The final standings produced by this can be viewed at https://aaronmoniz.com/projects/euro-2020-bracket-standings/"
   ]
  },
  {
   "cell_type": "code",
   "execution_count": 34,
   "metadata": {},
   "outputs": [],
   "source": [
    "# Importing necessary libraries\n",
    "import pandas as pd\n",
    "import glob"
   ]
  },
  {
   "cell_type": "code",
   "execution_count": 35,
   "metadata": {},
   "outputs": [],
   "source": [
    "def opponent_finder(l1, l2):\n",
    "    # args: two lists l1 and l2 containing country names\n",
    "    # returns: a populated list of opponents for each round by country\n",
    "    x = []\n",
    "    for i in list(aaron2['country']):\n",
    "        if i in l2:\n",
    "            x += [l1[l2.index(i)]]\n",
    "        elif i in l1:\n",
    "            x += [l2[l1.index(i)]]\n",
    "        else:\n",
    "            x += ['']\n",
    "    return x"
   ]
  },
  {
   "cell_type": "code",
   "execution_count": 36,
   "metadata": {},
   "outputs": [],
   "source": [
    "def no_fours(l):\n",
    "    # arg: series l of group rankings by country\n",
    "    # returns: a populated list of group ranks in case the 4 has been omitted by the user\n",
    "    g = list(l)\n",
    "    if 4 not in g:\n",
    "        p = [g[1], g[2], g[3], g[4], g[7], g[8], g[9], g[10], g[13], g[14], g[15], g[16],\\\n",
    "             g[19], g[20], g[21], g[22], g[25], g[26], g[27], g[28], g[31], g[32], g[33], g[34] ]\n",
    "        r = []\n",
    "        for i in p:\n",
    "            if type(i) == float:\n",
    "                r += [4]\n",
    "            else:\n",
    "                r += [i]\n",
    "        return r\n",
    "    else:\n",
    "        r = [rank for rank in list(aaron['Unnamed: 1']) \\\n",
    "                            if pd.isnull(rank) == False and type(rank) == int][:24]\n",
    "        return r"
   ]
  },
  {
   "cell_type": "code",
   "execution_count": null,
   "metadata": {
    "scrolled": false
   },
   "outputs": [],
   "source": [
    "# reads through list of bracket entries in a folder and converts them into one DataFrame, where\n",
    "# each row represents the predictions one user made about one country\n",
    "entries = pd.DataFrame()\n",
    "for c in glob.glob(r\"C:\\Users\\aaron\\Documents\\Euro 2020 Bracket Sample\\*.xlsx\"):\n",
    "    bracket = pd.read_excel(c)\n",
    "    bracket2 = pd.DataFrame() # resets DataFrame to empty\n",
    "    # the following lines read through the sheet for important cells and format them in order\n",
    "    # to populate the DataFrame\n",
    "    bracket2['country'] = [country for country in list(bracket['Unnamed: 2']) \\\n",
    "                        if pd.isnull(country) == False and type(country) == str][:24]\n",
    "    bracket2['group rank'] = no_fours(bracket['Unnamed: 1'][11:46])\n",
    "    bracket2['qualify from group?'] = [country in list(bracket['Unnamed: 6']) \\\n",
    "                                     for country in bracket2['country']]\n",
    "    l = list(bracket['Unnamed: 6'])\n",
    "    l2 = [l[13], l[17], l[21], l[25], l[29], l[33], l[37], l[41]]\n",
    "    l3 = [l[15], l[19], l[23], l[27], l[31], l[35], l[39], l[43]]\n",
    "    l4 = list(bracket['Unnamed: 9'])\n",
    "    l5 = [l4[15], l4[23], l4[31], l4[39]]\n",
    "    l6 = [l4[17], l4[25], l4[33], l4[41]]\n",
    "    l7 = list(bracket['Unnamed: 11'])\n",
    "    l8 = [l7[19], l7[35]]\n",
    "    l9 = [l7[21], l7[37]]\n",
    "    l10 = list(bracket['Unnamed: 13'])\n",
    "    s11 = [l10[27]]\n",
    "    s12 = [l10[29]]\n",
    "    s13 = [l10[23]]\n",
    "    # The following lines take the processed data from above and load them into the DataFrame\n",
    "    # and standardizes their format\n",
    "    bracket2['r16 opponent'] = opponent_finder(l2,l3)\n",
    "    bracket2['qf opponent'] = opponent_finder(l5, l6)\n",
    "    bracket2['sf opponent'] = opponent_finder(l8,l9)\n",
    "    bracket2['final opponent'] = opponent_finder(s11,s12)\n",
    "    bracket2['winner'] = opponent_finder(s13,s13)\n",
    "    bracket2['Twitter'] = bracket['Unnamed: 11'][5]\n",
    "    bracket2['name'] = bracket['Unnamed: 11'][4]\n",
    "    bracket2['Twitter'] = [handle.replace('@','') for handle in \\\n",
    "                           [str(h) for h in list(bracket2['Twitter'])]]\n",
    "    entries = pd.concat([entries, bracket2]) # appends the processed entry to the others"
   ]
  },
  {
   "cell_type": "code",
   "execution_count": null,
   "metadata": {},
   "outputs": [],
   "source": [
    "# saves output of previous cell to CSV\n",
    "entries.to_csv(r'C:\\Users\\aaron\\Documents\\BracketResults.csv')\n",
    "entries"
   ]
  }
 ],
 "metadata": {
  "kernelspec": {
   "display_name": "Python 3",
   "language": "python",
   "name": "python3"
  },
  "language_info": {
   "codemirror_mode": {
    "name": "ipython",
    "version": 3
   },
   "file_extension": ".py",
   "mimetype": "text/x-python",
   "name": "python",
   "nbconvert_exporter": "python",
   "pygments_lexer": "ipython3",
   "version": "3.7.6"
  }
 },
 "nbformat": 4,
 "nbformat_minor": 4
}
